{
 "cells": [
  {
   "cell_type": "markdown",
   "metadata": {},
   "source": [
    "# U.S. Medical Insurance Costs"
   ]
  },
  {
   "cell_type": "markdown",
   "metadata": {},
   "source": [
    "Importing the csv python module to work with the data in the insurance.csv file."
   ]
  },
  {
   "cell_type": "code",
   "execution_count": 1,
   "metadata": {},
   "outputs": [],
   "source": [
    "import csv"
   ]
  },
  {
   "cell_type": "markdown",
   "metadata": {},
   "source": [
    "Separating the fieldnames of the csv file in lists to work with them separately."
   ]
  },
  {
   "cell_type": "code",
   "execution_count": 3,
   "metadata": {},
   "outputs": [],
   "source": [
    "ages = []\n",
    "sexes = []\n",
    "bmis = []\n",
    "num_children = []\n",
    "smoker_statuses = []\n",
    "regions = []\n",
    "insurance_charges = []"
   ]
  },
  {
   "cell_type": "markdown",
   "metadata": {},
   "source": [
    "Filling the fieldnames lists with the corresponding data at the csv file."
   ]
  },
  {
   "cell_type": "code",
   "execution_count": 7,
   "metadata": {},
   "outputs": [],
   "source": [
    "with open('insurance.csv', mode='r', newline='') as csv_file:\n",
    "    dict_reader = csv.DictReader(csv_file, delimiter=',')\n",
    "    for row in dict_reader:\n",
    "        ages.append(row['age'])\n",
    "        sexes.append(row['sex'])\n",
    "        bmis.append(row['bmi'])\n",
    "        num_children.append(row['children'])\n",
    "        smoker_statuses.append(row['smoker'])\n",
    "        regions.append(row['region'])\n",
    "        insurance_charges.append(row['charges'])"
   ]
  },
  {
   "cell_type": "markdown",
   "metadata": {},
   "source": [
    "Making a Medical Insurance class to parse the data gathered."
   ]
  },
  {
   "cell_type": "code",
   "execution_count": 85,
   "metadata": {},
   "outputs": [],
   "source": [
    "class Medical_Insurance():\n",
    "    def __init__(self, ages, sexes, bmis, num_children, smoker_statuses, regions, insurance_charges):\n",
    "        self.ages = ages\n",
    "        self.sexes = sexes\n",
    "        self.bmis = bmis\n",
    "        self.num_children = num_children\n",
    "        self.smoker_statuses = smoker_statuses\n",
    "        self.regions = regions\n",
    "        self.insurance_charges = insurance_charges\n",
    "        \n",
    "    def see_methods(self):\n",
    "        print(\"Percentages:\")\n",
    "        print(\"percentage_smokers: the percentage of smokers at the insurance.\")\n",
    "        print(\"percentage_insurance_per_region: the percentage of people per region at the insurance.\")\n",
    "        print(\"percentage_people_per_bmi_classification: the percentage of people per bmi classification.\")\n",
    "        print(\"\")\n",
    "        print(\"Averages:\")\n",
    "        print(\"average_insurance_if_smoker: the average insurance for smokers and non-smokers.\")\n",
    "        print(\"average_insurance_per_gender: the average insurance per gender.\")\n",
    "        \n",
    "    def percentage_smokers(self):\n",
    "        num_smokers = 0\n",
    "        num_non_smokers = 0\n",
    "        for is_smoker in self.smoker_statuses:\n",
    "            if is_smoker == 'yes':\n",
    "                num_smokers += 1\n",
    "            if is_smoker == 'no':\n",
    "                num_non_smokers += 1\n",
    "        print(f\"The percetage of non-smokers is: {round((num_smokers / (num_smokers + num_non_smokers)) * 100, 2)}%\")\n",
    "        print(f\"The percentage of smokers is: {round((num_non_smokers / (num_smokers + num_non_smokers)) * 100, 2)}%\")\n",
    "        \n",
    "    \n",
    "    def percentage_insurance_per_region(self):\n",
    "        dict_regions = {}\n",
    "        for region in self.regions:\n",
    "            if region not in dict_regions:\n",
    "                dict_regions[region] = 1\n",
    "            dict_regions[region] += 1\n",
    "        \n",
    "        for r_name, r_val in dict_regions.items():\n",
    "            print(f\"The percentage of insurances for the {r_name} region is: { round( ( r_val / sum(dict_regions.values()) )*100 , 2) }%\")\n",
    "        print(\"Analyzing the values, the percentage of people that uses the insurance is well distributed.\")\n",
    "        \n",
    "    \n",
    "    def percentage_people_per_bmi_classification(self):\n",
    "        dict_bmis = {'underweight': 0, 'healthy weight': 0, 'overweight': 0, 'obesity': 0}\n",
    "        for bmi in self.bmis:\n",
    "            if float(bmi) < 18.5:\n",
    "                dict_bmis['underweight'] += 1\n",
    "            elif float(bmi) < 25.0:\n",
    "                dict_bmis['healthy weight'] += 1\n",
    "            elif float(bmi) < 30.0:\n",
    "                dict_bmis['overweight'] += 1\n",
    "            else:\n",
    "                dict_bmis['obesity'] += 1\n",
    "        \n",
    "        for key, val in dict_bmis.items():\n",
    "            print(f\"The percentage of people with a bmi classification of {key} is: {round( (val / sum(dict_bmis.values()) )*100, 2)}%\")\n",
    "            \n",
    "    \n",
    "    def average_insurance_if_smoker(self):\n",
    "        num_smokers = 0\n",
    "        total_insurance_smokers = 0\n",
    "        num_non_smokers = 0\n",
    "        total_insurance_non_smokers = 0\n",
    "        for idx in range(len(self.smoker_statuses)):\n",
    "            if self.smoker_statuses[idx] == 'yes':\n",
    "                num_smokers += 1\n",
    "                total_insurance_smokers += float(self.insurance_charges[idx])\n",
    "            if self.smoker_statuses[idx] == 'no':\n",
    "                num_non_smokers += 1\n",
    "                total_insurance_non_smokers += float(self.insurance_charges[idx])\n",
    "        print(f\"The average insurance for non-smokers is: {round(total_insurance_non_smokers / num_non_smokers, 2)}\")\n",
    "        print(f\"The average insurance for smokers is: {round(total_insurance_smokers / num_smokers, 2)}\")\n",
    "        \n",
    "    \n",
    "    def average_insurance_per_gender(self):\n",
    "        num_male = 0\n",
    "        total_insurance_male = 0\n",
    "        num_female = 0\n",
    "        total_insurance_female = 0\n",
    "        for idx in range(len(self.sexes)):\n",
    "            if self.sexes[idx] == 'male':\n",
    "                num_male += 1\n",
    "                total_insurance_male += float(self.insurance_charges[idx])\n",
    "            if self.sexes[idx] == 'female':\n",
    "                num_female += 1\n",
    "                total_insurance_female += float(self.insurance_charges[idx])\n",
    "        print(f\"The average insurance for men: {round(total_insurance_male / num_male, 2)}\")\n",
    "        print(f\"The average insurance for women: {round(total_insurance_female / num_female, 2)}\")"
   ]
  },
  {
   "cell_type": "markdown",
   "metadata": {},
   "source": [
    "Instance of the Medical Insurance class:"
   ]
  },
  {
   "cell_type": "code",
   "execution_count": 86,
   "metadata": {},
   "outputs": [],
   "source": [
    "medical_insurance = Medical_Insurance(ages, sexes, bmis, num_children, smoker_statuses, regions, insurance_charges)"
   ]
  },
  {
   "cell_type": "markdown",
   "metadata": {},
   "source": [
    "Write code below here:"
   ]
  },
  {
   "cell_type": "code",
   "execution_count": 89,
   "metadata": {},
   "outputs": [
    {
     "name": "stdout",
     "output_type": "stream",
     "text": [
      "Percentages:\n",
      "percentage_smokers: the percentage of smokers at the insurance.\n",
      "percentage_insurance_per_region: the percentage of people per region at the insurance.\n",
      "percentage_people_per_bmi_classification: the percentage of people per bmi classification.\n",
      "\n",
      "Averages:\n",
      "average_insurance_if_smoker: the average insurance for smokers and non-smokers.\n",
      "average_insurance_per_gender: the average insurance per gender.\n"
     ]
    }
   ],
   "source": [
    "# If you want to see the existing methods: medical_insurance.see_methods()\n",
    "\n",
    "medical_insurance.see_methods()"
   ]
  }
 ],
 "metadata": {
  "kernelspec": {
   "display_name": "Python 3 (ipykernel)",
   "language": "python",
   "name": "python3"
  },
  "language_info": {
   "codemirror_mode": {
    "name": "ipython",
    "version": 3
   },
   "file_extension": ".py",
   "mimetype": "text/x-python",
   "name": "python",
   "nbconvert_exporter": "python",
   "pygments_lexer": "ipython3",
   "version": "3.10.5"
  }
 },
 "nbformat": 4,
 "nbformat_minor": 4
}
